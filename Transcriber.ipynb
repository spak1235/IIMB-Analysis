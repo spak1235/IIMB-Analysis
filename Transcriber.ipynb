{
 "cells": [
  {
   "cell_type": "code",
   "execution_count": 1,
   "id": "c71dbb7e-4db5-449b-a0b8-bd619416b8cf",
   "metadata": {},
   "outputs": [],
   "source": [
    "import subprocess\n",
    "import assemblyai as aai"
   ]
  },
  {
   "cell_type": "code",
   "execution_count": 2,
   "id": "d0a39172-5f56-421f-b2b3-446eb2220f35",
   "metadata": {},
   "outputs": [
    {
     "name": "stderr",
     "output_type": "stream",
     "text": [
      "ffmpeg version 7.1.1 Copyright (c) 2000-2025 the FFmpeg developers\n",
      "  built with gcc 11 (Ubuntu 11.4.0-1ubuntu1~22.04)\n",
      "  configuration: --enable-gpl --enable-nonfree --enable-libx264 --enable-libx265 --enable-libvpx --enable-libmp3lame --enable-libfdk-aac --enable-libopus\n",
      "  libavutil      59. 39.100 / 59. 39.100\n",
      "  libavcodec     61. 19.101 / 61. 19.101\n",
      "  libavformat    61.  7.100 / 61.  7.100\n",
      "  libavdevice    61.  3.100 / 61.  3.100\n",
      "  libavfilter    10.  4.100 / 10.  4.100\n",
      "  libswscale      8.  3.100 /  8.  3.100\n",
      "  libswresample   5.  3.100 /  5.  3.100\n",
      "  libpostproc    58.  3.100 / 58.  3.100\n",
      "Input #0, matroska,webm, from 'sample.mkv':\n",
      "  Metadata:\n",
      "    COMPATIBLE_BRANDS: iso6avc1mp41\n",
      "    MAJOR_BRAND     : dash\n",
      "    MINOR_VERSION   : 0\n",
      "    ENCODER         : Lavf61.7.100\n",
      "  Duration: 00:06:08.11, start: 0.000000, bitrate: 2558 kb/s\n",
      "  Stream #0:0: Video: h264 (High), yuv420p(tv, bt709, progressive), 1920x1080 [SAR 1:1 DAR 16:9], 25 fps, 25 tbr, 1k tbn (default)\n",
      "      Metadata:\n",
      "        HANDLER_NAME    : ISO Media file produced by Google Inc.\n",
      "        VENDOR_ID       : [0][0][0][0]\n",
      "        DURATION        : 00:06:08.080000000\n",
      "  Stream #0:1(eng): Audio: opus, 48000 Hz, stereo, fltp (default)\n",
      "      Metadata:\n",
      "        DURATION        : 00:06:08.108000000\n",
      "Stream mapping:\n",
      "  Stream #0:1 -> #0:0 (opus (native) -> pcm_s16le (native))\n",
      "Press [q] to stop, [?] for help\n",
      "Output #0, wav, to 'audio.wav':\n",
      "  Metadata:\n",
      "    COMPATIBLE_BRANDS: iso6avc1mp41\n",
      "    MAJOR_BRAND     : dash\n",
      "    MINOR_VERSION   : 0\n",
      "    ISFT            : Lavf61.7.100\n",
      "  Stream #0:0(eng): Audio: pcm_s16le ([1][0][0][0] / 0x0001), 44100 Hz, stereo, s16, 1411 kb/s (default)\n",
      "      Metadata:\n",
      "        DURATION        : 00:06:08.108000000\n",
      "        encoder         : Lavc61.19.101 pcm_s16le\n",
      "[out#0/wav @ 0x63a523d7dd80] video:0KiB audio:63408KiB subtitle:0KiB other streams:0KiB global headers:0KiB muxing overhead: 0.000120%\n",
      "size=   63408KiB time=00:06:08.08 bitrate=1411.2kbits/s speed= 277x    \n"
     ]
    },
    {
     "data": {
      "text/plain": [
       "0"
      ]
     },
     "execution_count": 2,
     "metadata": {},
     "output_type": "execute_result"
    }
   ],
   "source": [
    "command = 'ffmpeg -i sample.mkv -ab 160k -ar 44100 -vn audio.wav'\n",
    "subprocess.call(command, shell=True)"
   ]
  },
  {
   "cell_type": "code",
   "execution_count": 3,
   "id": "8f525de5-b943-401a-a9fe-6807ac504cfb",
   "metadata": {},
   "outputs": [
    {
     "name": "stdout",
     "output_type": "stream",
     "text": [
      "Speaker A: Traditional Paramparik Dukan Hai or Apusa Digital Dukan Banana Chate ONTC Any open network for digital commerce or AJ Isi Visha Param Hyper.\n",
      "Speaker B: Sir digital Dekiham last one and a half years approximately benefit Milta planning the single outlet application maintenance platform or sales boost my store application.\n",
      "Speaker A: Stationary examination season.\n",
      "Speaker C: Cash on delivery.\n",
      "Speaker B: Prepaid order.\n",
      "Speaker A: C Otkipasai.\n",
      "Speaker B: Meripas channelize okay APNA commission approximately three to four days.\n",
      "Speaker C: So digital.\n",
      "Speaker B: Cost bearing Bijadah damages personalize.\n",
      "Speaker A: Online Karna Chahe customers ate or online orders Online.\n",
      "Speaker B: Orders online order approximately 100 plus minus 1020.\n",
      "Speaker C: Complimentary gift.\n",
      "Speaker B: Delivery Khan Karega channel partners allot Kiyoma 10 to 20 minutes nearby around okay nearby 20 to 20 to 25 minutes if you SOTI Wambabas dono options self delivery Karakta portal options.\n",
      "Speaker C: Okay.\n",
      "Speaker A: Important to sales customer.\n",
      "Speaker B: GST certificate plus bank details maximum 2 to 3 days online shop available.\n",
      "Speaker A: Legacy system, online system.\n",
      "Speaker C: Training program.\n",
      "Speaker B: Or helpful staff A coffee.\n",
      "Speaker A: Thank you for ondc. Yes, obviously I wish you more smiles, more sales and more pleasant experiences of the customers. Thank you very much for joining us today.\n",
      "Speaker C: Thank you so much.\n"
     ]
    }
   ],
   "source": [
    "aai.settings.api_key = \"4dae2d5557c54f019444d029fa7eb9eb\"\n",
    "audio_file = \"./audio.wav\"\n",
    "config = aai.TranscriptionConfig(\n",
    "  speaker_labels=True,\n",
    ")\n",
    "\n",
    "transcript = aai.Transcriber().transcribe(audio_file, config)\n",
    "\n",
    "for utterance in transcript.utterances:\n",
    "  print(f\"Speaker {utterance.speaker}: {utterance.text}\")"
   ]
  },
  {
   "cell_type": "code",
   "execution_count": 4,
   "id": "60ecf541-df69-4c88-980d-807e2e1fc12a",
   "metadata": {},
   "outputs": [],
   "source": [
    "with open(\"transcribed.txt\", \"w\", encoding='utf-8') as file:\n",
    "    for utterance in transcript.utterances:\n",
    "        file.write(f\"Speaker {utterance.speaker}: {utterance.text}\\n\")"
   ]
  }
 ],
 "metadata": {
  "kernelspec": {
   "display_name": "Python 3 (ipykernel)",
   "language": "python",
   "name": "python3"
  },
  "language_info": {
   "codemirror_mode": {
    "name": "ipython",
    "version": 3
   },
   "file_extension": ".py",
   "mimetype": "text/x-python",
   "name": "python",
   "nbconvert_exporter": "python",
   "pygments_lexer": "ipython3",
   "version": "3.12.7"
  },
  "widgets": {
   "application/vnd.jupyter.widget-state+json": {
    "state": {},
    "version_major": 2,
    "version_minor": 0
   }
  }
 },
 "nbformat": 4,
 "nbformat_minor": 5
}
