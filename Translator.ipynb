{
 "cells": [
  {
   "cell_type": "code",
   "execution_count": 1,
   "id": "8ef87a5a-4a6e-46f1-940c-831cebc2c6ad",
   "metadata": {},
   "outputs": [],
   "source": [
    "from googletrans import Translator"
   ]
  },
  {
   "cell_type": "code",
   "execution_count": 2,
   "id": "ba37dcd9-1ec4-49f4-b5d9-82760a5bc21e",
   "metadata": {},
   "outputs": [],
   "source": [
    "with open(\"transcribed.txt\", \"r\", encoding=\"utf-8\") as file:\n",
    "    text_to_translate = file.read()"
   ]
  },
  {
   "cell_type": "code",
   "execution_count": 3,
   "id": "0b6b81c4-caea-4e20-8cc8-9443bc1d7296",
   "metadata": {},
   "outputs": [],
   "source": [
    "translator = Translator()\n",
    "translated = translator.translate(text_to_translate, dest='hi')\n",
    "translated_text = translated.text"
   ]
  },
  {
   "cell_type": "code",
   "execution_count": 4,
   "id": "f3989444-b4b9-4cba-bdfb-d832a437547b",
   "metadata": {},
   "outputs": [],
   "source": [
    "translated_1 = translator.translate(text_to_translate, dest='en')\n",
    "translated_text_1 = translated_1.text\n",
    "with open(\"translated_output.txt\", \"w\", encoding=\"utf-8\") as file:\n",
    "    file.write(translated_text_1)"
   ]
  }
 ],
 "metadata": {
  "kernelspec": {
   "display_name": "Python (trans-env)",
   "language": "python",
   "name": "trans-env"
  },
  "language_info": {
   "codemirror_mode": {
    "name": "ipython",
    "version": 3
   },
   "file_extension": ".py",
   "mimetype": "text/x-python",
   "name": "python",
   "nbconvert_exporter": "python",
   "pygments_lexer": "ipython3",
   "version": "3.12.7"
  },
  "widgets": {
   "application/vnd.jupyter.widget-state+json": {
    "state": {},
    "version_major": 2,
    "version_minor": 0
   }
  }
 },
 "nbformat": 4,
 "nbformat_minor": 5
}
