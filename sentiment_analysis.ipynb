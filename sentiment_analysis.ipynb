{
 "cells": [
  {
   "cell_type": "code",
   "execution_count": 1,
   "id": "7950305f-6927-4e9d-9438-6a0d19bea342",
   "metadata": {},
   "outputs": [
    {
     "name": "stderr",
     "output_type": "stream",
     "text": [
      "[nltk_data] Downloading package vader_lexicon to\n",
      "[nltk_data]     /home/sohan/nltk_data...\n",
      "[nltk_data]   Package vader_lexicon is already up-to-date!\n",
      "[nltk_data] Downloading package punkt_tab to /home/sohan/nltk_data...\n",
      "[nltk_data]   Package punkt_tab is already up-to-date!\n"
     ]
    },
    {
     "data": {
      "text/plain": [
       "True"
      ]
     },
     "execution_count": 1,
     "metadata": {},
     "output_type": "execute_result"
    }
   ],
   "source": [
    "import nltk\n",
    "from nltk.sentiment import SentimentIntensityAnalyzer\n",
    "nltk.download('vader_lexicon')\n",
    "\n",
    "from nltk.tokenize import sent_tokenize\n",
    "nltk.download('punkt_tab')"
   ]
  },
  {
   "cell_type": "code",
   "execution_count": 2,
   "id": "b992a7e1-1da3-435e-822d-95f2b6042b36",
   "metadata": {},
   "outputs": [],
   "source": [
    "with open(\"translated_output.txt\", 'r') as f:\n",
    "    transcript = f.read()\n",
    "\n",
    "sia = SentimentIntensityAnalyzer()"
   ]
  },
  {
   "cell_type": "code",
   "execution_count": 3,
   "id": "26ed0ea3-9d4a-4c04-a1c1-9f210d0602bb",
   "metadata": {},
   "outputs": [],
   "source": [
    "sentences = sent_tokenize(transcript)"
   ]
  },
  {
   "cell_type": "code",
   "execution_count": 4,
   "id": "22f79221-b44b-4bd2-8ab7-20b5a50b650e",
   "metadata": {},
   "outputs": [
    {
     "name": "stdout",
     "output_type": "stream",
     "text": [
      "Sentimen counts {'positive': 11, 'neutral': 11, 'negative': 1}\n",
      "positve:  47.82608695652174\n",
      "neutral:  47.82608695652174\n",
      "negative:  4.3478260869565215\n"
     ]
    }
   ],
   "source": [
    "sentiment_counts = {'positive':0, 'neutral':0, 'negative':0}\n",
    "for sentence in sentences:\n",
    "    score = sia.polarity_scores(sentence)\n",
    "    if score['compound'] >= 0.05:\n",
    "        sentiment_counts['positive'] += 1\n",
    "    elif score['compound'] <= -0.05:\n",
    "        sentiment_counts['negative'] += 1\n",
    "    else:\n",
    "        sentiment_counts['neutral'] += 1\n",
    "\n",
    "print(\"Sentimen counts\", sentiment_counts)\n",
    "\n",
    "sum = sentiment_counts['positive']+sentiment_counts['negative']+sentiment_counts['neutral']\n",
    "\n",
    "print(\"positve: \", (sentiment_counts['positive']/sum)*100)\n",
    "print(\"neutral: \", (sentiment_counts['neutral']/sum)*100)\n",
    "print(\"negative: \", (sentiment_counts['negative']/sum)*100)"
   ]
  }
 ],
 "metadata": {
  "kernelspec": {
   "display_name": "Python (myenv)",
   "language": "python",
   "name": "myenv"
  },
  "language_info": {
   "codemirror_mode": {
    "name": "ipython",
    "version": 3
   },
   "file_extension": ".py",
   "mimetype": "text/x-python",
   "name": "python",
   "nbconvert_exporter": "python",
   "pygments_lexer": "ipython3",
   "version": "3.12.7"
  },
  "widgets": {
   "application/vnd.jupyter.widget-state+json": {
    "state": {},
    "version_major": 2,
    "version_minor": 0
   }
  }
 },
 "nbformat": 4,
 "nbformat_minor": 5
}
